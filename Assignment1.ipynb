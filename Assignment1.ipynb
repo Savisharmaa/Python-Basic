{
  "nbformat": 4,
  "nbformat_minor": 0,
  "metadata": {
    "colab": {
      "provenance": []
    },
    "kernelspec": {
      "name": "python3",
      "display_name": "Python 3"
    },
    "language_info": {
      "name": "python"
    }
  },
  "cells": [
    {
      "cell_type": "markdown",
      "source": [
        "Ques. What is python and why it is important?\n",
        "\n",
        "Ans. Python is set of rules and symbols that we use to give instructions to computer.\n",
        "\n",
        "It is widely used in industry\n",
        "It has lot of libraries. i.e. lot of inbuilt functions and modules.\n",
        "Can do automation using python.\n",
        "\n",
        "Ques.  What is an interpreter in Python?\n",
        "\n",
        "Ans. An interpreter in Python is a program that reads and executes Python code line by line.\n",
        "\n",
        "Ques. what are pre-defined keywords in python?\n",
        "\n",
        "Ans. pre -defined keywords hold a special meaning and special purpose.\n",
        "\n",
        "Ques. Can keywords be used as variable names?\n",
        "\n",
        "Ans. No, keywords cannot be used as variable names.\n",
        "\n",
        "Ques. What is mutability in Python?\n",
        "\n",
        "Ans. Objects whose value can be changed after they are created are known as mutable objects or mutability.\n",
        "\n",
        "Ques. Why are lists mutable, but tuples are immutable?\n",
        "\n",
        "Ans. Lists are mutable because values in list can be changed after creation while in tuple values cannot be changed.\n",
        "\n",
        "Ques. What is the difference between “==” and “is” operators in Python?\n",
        "\n",
        "Ans. \"==\" Compares the values of two objects\n",
        " whereas \"is\" Compares the identity of two objects, i.e., whether they are the exact same object in memory.\n",
        "\n",
        "Ques. What are logical operators in python?\n",
        "\n",
        "Ans. In Python, logical operators are used to combine conditional statements or expressions and evaluate their truth values.\n",
        "\n",
        "1. And: returns true if both conditions are true.\n",
        "2. Or: returns true if one condition is true.\n",
        "3. Not: Purpose: Reverses the boolean value of the operand. If the condition is true, it returns false, and if the condition is false, it returns true.\n",
        "\n",
        "Ques. What is type casting in python?\n",
        "\n",
        "Ans. The process of changing the data type of value or object is known as type casting.\n",
        "\n",
        "Ques. What is the difference between implicit and explicit type casting?\n",
        "\n",
        "Ans. Implicit: Python automatically coverts one datatype to another..\n",
        "         Explicit: We have to convert data type manually.\n",
        "\n",
        "Ques.  What is the purpose of conditional statements in Python?\n",
        "Ans.  Conditional statements are used to make decisions in a program based on certain conditions. They allow the code to execute whether the condition is true or not.\n",
        "\n",
        "Ques. How does the elif statement work?\n",
        "\n",
        "Ans. It allows you to check multiple conditions after an initial if condition.\n",
        "syntax:\n",
        " if (condition1):\n",
        "   code\n",
        " elif (condition2):\n",
        "   code\n",
        " else:\n",
        "   code  \n",
        "Ques.  What is the difference between for and while loops?\n",
        "\n",
        "Ans. in for loop, we know the count of iteration wheras in while loop we don't know the count.\n",
        "for loop runs by range or sequence, while loop runs by condition.\n",
        "\n",
        "Ques. Describe a scenario where a while loop is more suitable than a for loop.\n",
        "\n",
        "Ans. A while loop is more suitable than a for loop when you don't know in advance how many times the loop should run.\n",
        "Example :\n",
        "  time = 5\n",
        "\n",
        "while seconds > 0:\n",
        "    print(f\"{time}...\")\n",
        "    seconds -= 1\n",
        "\n",
        "print(\"Time's up!\")"
      ],
      "metadata": {
        "id": "BussWRk4N7FF"
      }
    },
    {
      "cell_type": "code",
      "execution_count": null,
      "metadata": {
        "colab": {
          "base_uri": "https://localhost:8080/"
        },
        "id": "D-ErijrrN33z",
        "outputId": "3849ed38-0ae0-46f9-97c6-a8419974c2e5"
      },
      "outputs": [
        {
          "output_type": "stream",
          "name": "stdout",
          "text": [
            "hello world\n"
          ]
        }
      ],
      "source": [
        "\"\"\" Write a Python program to print \"Hello, World!\"\"\"\n",
        "print(\"hello world\")"
      ]
    },
    {
      "cell_type": "code",
      "source": [
        "\"\"\" Write a Python program that displays your name and age\"\"\"\n",
        "Name =\"Savi\"\n",
        "Age = \"27\"\n",
        "print(\"My name is \"+Name+\" and my age is \"+Age+\"\")"
      ],
      "metadata": {
        "colab": {
          "base_uri": "https://localhost:8080/"
        },
        "id": "NJ5g6yIlPGof",
        "outputId": "ccd69e4a-acc9-49f2-9b40-a43049226549"
      },
      "execution_count": null,
      "outputs": [
        {
          "output_type": "stream",
          "name": "stdout",
          "text": [
            "My name is Savi and my age is 27\n"
          ]
        }
      ]
    },
    {
      "cell_type": "code",
      "source": [
        "\"\"\" Write code to print all the pre-defined keywords in Python using the keyword library\"\"\"\n",
        "import keyword\n",
        "keywords_list = keyword.kwlist\n",
        "print(\"Python Keywords:\")\n",
        "for kw in keywords_list:\n",
        "    print(kw)\n"
      ],
      "metadata": {
        "colab": {
          "base_uri": "https://localhost:8080/"
        },
        "id": "Kf2eKhW0SjJ7",
        "outputId": "988fc991-d558-4423-f619-e291bed47c27"
      },
      "execution_count": null,
      "outputs": [
        {
          "output_type": "stream",
          "name": "stdout",
          "text": [
            "Python Keywords:\n",
            "False\n",
            "None\n",
            "True\n",
            "and\n",
            "as\n",
            "assert\n",
            "async\n",
            "await\n",
            "break\n",
            "class\n",
            "continue\n",
            "def\n",
            "del\n",
            "elif\n",
            "else\n",
            "except\n",
            "finally\n",
            "for\n",
            "from\n",
            "global\n",
            "if\n",
            "import\n",
            "in\n",
            "is\n",
            "lambda\n",
            "nonlocal\n",
            "not\n",
            "or\n",
            "pass\n",
            "raise\n",
            "return\n",
            "try\n",
            "while\n",
            "with\n",
            "yield\n"
          ]
        }
      ]
    },
    {
      "cell_type": "code",
      "source": [
        "\"\"\" Write a program that checks if a given word is a Python keyword.\"\"\"\n",
        "import keyword\n",
        "word = input(\"Enter a word: \")\n",
        "\n",
        "if keyword.iskeyword(word):\n",
        "    print(f\"'{word}' is a Python keyword.\")\n",
        "else:\n",
        "    print(f\"'{word}' is NOT a Python keyword.\")"
      ],
      "metadata": {
        "id": "QxgT2hj1S68C"
      },
      "execution_count": null,
      "outputs": []
    },
    {
      "cell_type": "code",
      "source": [
        "\"\"\" 6. Write a function to demonstrate the behavior of mutable and immutable arguments.\"\"\"\n",
        "print(\"Immutable Example\")\n",
        "a = 10\n",
        "print(\"a =\",a)\n",
        "\n",
        "b = a\n",
        "b = b + 5\n",
        "print(\"Value of b:\", b)\n",
        "\n",
        "print(\"Mutable Example\")\n",
        "list1 = [1, 2, 3]\n",
        "print(\"list = \",list1)\n",
        "\n",
        "list1.append(4)\n",
        "\n",
        "print(\"List1:\", list1)\n"
      ],
      "metadata": {
        "id": "S7NTzM5sfMF7"
      },
      "execution_count": null,
      "outputs": []
    },
    {
      "cell_type": "code",
      "source": [
        "\"\"\"Write a program that performs basic arithmetic operations on two user-input numbers\"\"\"\n",
        "a = int(input(\"enter first number: \"))\n",
        "b = int(input(\"Enter second number: \"))\n",
        "add = a+b\n",
        "print(add)\n",
        "subtract = a-b\n",
        "print(subtract)\n",
        "multiply = a*b\n",
        "print(multiply)"
      ],
      "metadata": {
        "id": "ytoFC4wNkA17"
      },
      "execution_count": null,
      "outputs": []
    },
    {
      "cell_type": "code",
      "source": [
        "\"\"\"Write a program to demonstrate the use of logical operators.\"\"\"\n",
        "name = input(\"hi, what is your name?\")\n",
        "standard = input(\"enter your class\")\n",
        "homework = input(\"have you done your homework?\")\n",
        "if(standard >= 5 and homework == \"yes\"):\n",
        "  print(\"you are eligible\")\n",
        "else:\n",
        "  print(\"sorry, you are not eligible\")"
      ],
      "metadata": {
        "id": "z25uNLOKl0rQ"
      },
      "execution_count": null,
      "outputs": []
    },
    {
      "cell_type": "code",
      "source": [
        "\"\"\"Write a Python program to convert user input from string to integer, float, and boolean types.\"\"\"\n",
        "s = \"1100\"\n",
        "a = int(s)\n",
        "print(a)\n",
        "b = float(s)\n",
        "print(b)\n",
        "c = bool(s)\n",
        "print(c)"
      ],
      "metadata": {
        "id": "sESYpg74lceU"
      },
      "execution_count": null,
      "outputs": []
    },
    {
      "cell_type": "code",
      "source": [
        "\"\"\"Write code to demonstrate type casting with list elements\"\"\"\n",
        "s = [1,2.0, \"str\",True]\n",
        "print(type(s[1]))"
      ],
      "metadata": {
        "id": "v9PjXR9rm-Z1"
      },
      "execution_count": null,
      "outputs": []
    },
    {
      "cell_type": "code",
      "source": [
        "\"\"\"Write a program that checks if a number is positive, negative, or zero\"\"\"\n",
        "a = int(input(\"Enter a number\"))\n",
        "if a > 0:\n",
        "  print(\"It is a positive number\")\n",
        "elif a < 0:\n",
        "  print(\"It is a negative number\")\n",
        "else:\n",
        "  print(\"It is zero\")\n"
      ],
      "metadata": {
        "id": "PXoqX0J7ce2H"
      },
      "execution_count": null,
      "outputs": []
    },
    {
      "cell_type": "code",
      "source": [
        "\"\"\"Write a for loop to print numbers from 1 to 10.\"\"\"\n",
        "for i in range(0,11):\n",
        "    print(i)"
      ],
      "metadata": {
        "id": "7YKibjCTcNqg"
      },
      "execution_count": null,
      "outputs": []
    },
    {
      "cell_type": "code",
      "source": [
        "\"\"\"Write a Python program to find the sum of all even numbers between 1 and 50\"\"\"\n",
        "for i in range(2,51,2):\n",
        "    print(i)"
      ],
      "metadata": {
        "id": "SZzeHbZcc2Cu"
      },
      "execution_count": null,
      "outputs": []
    },
    {
      "cell_type": "code",
      "source": [
        "\"\"\"Write a program to reverse a string using a while loop\"\"\"\n",
        "str = \"hello\"\n",
        "reverse = \"\"\n",
        "a = len(str)-1\n",
        "while a>=0:\n",
        "      reverse +=str[a]\n",
        "      a -=1\n",
        "print(reverse)"
      ],
      "metadata": {
        "id": "I1Tv5_o1dMrG"
      },
      "execution_count": null,
      "outputs": []
    },
    {
      "cell_type": "code",
      "source": [
        "\"\"\"Write a Python program to calculate the factorial of a number provided by the user using a while loop\"\"\"\n",
        "a = int(input(\"Enter a number\"))\n",
        "factorial = 1\n",
        "i = 1\n",
        "if a < 0:\n",
        "    print(\"Enter a positive number\")\n",
        "else:\n",
        "    while i<=a:\n",
        "      factorial *= i;\n",
        "      i += 1\n",
        "print(factorial)\n"
      ],
      "metadata": {
        "id": "c1uNNGNmewEv"
      },
      "execution_count": null,
      "outputs": []
    }
  ]
}